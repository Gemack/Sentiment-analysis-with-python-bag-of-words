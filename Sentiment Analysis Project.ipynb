{
 "cells": [
  {
   "cell_type": "markdown",
   "id": "e1b70503",
   "metadata": {},
   "source": [
    "# SENTIMENT ANALYSIS USING SIKIT LEARN TFIDFVECTORIZER (BAG OF WORDS)\n",
    "\n",
    "#### Data: Amazon *Book Reviews*\n",
    "#### Data Source : *kaggle* "
   ]
  },
  {
   "cell_type": "code",
   "execution_count": 22,
   "id": "d56f3304",
   "metadata": {},
   "outputs": [],
   "source": [
    "import numpy as np\n",
    "import pandas as pd\n",
    "import matplotlib.pyplot as plt\n",
    "from sklearn.feature_extraction.text import TfidfVectorizer"
   ]
  },
  {
   "cell_type": "markdown",
   "id": "5aa1ee18",
   "metadata": {},
   "source": [
    "##### Creating an helper class for data preprocessing"
   ]
  },
  {
   "cell_type": "code",
   "execution_count": 23,
   "id": "34b6e7c6",
   "metadata": {},
   "outputs": [],
   "source": [
    "class Book_Review:\n",
    "    def __init__(self, text, score):\n",
    "        self.text = text\n",
    "        self.score = score\n",
    "        self.sentiment = self.get_sentiments()\n",
    "        \n",
    "    \n",
    " # Assigning sentiments based on rating   \n",
    "    def get_sentiments(self):\n",
    "        if self.score <=3:\n",
    "            return \"bad\"\n",
    "        else:\n",
    "            return \"good\"\n",
    "\n",
    "\n",
    "\n"
   ]
  },
  {
   "cell_type": "code",
   "execution_count": 24,
   "id": "77d07991",
   "metadata": {},
   "outputs": [
    {
     "data": {
      "text/plain": [
       "10000"
      ]
     },
     "execution_count": 24,
     "metadata": {},
     "output_type": "execute_result"
    }
   ],
   "source": [
    "## reading our data and saving it into a python list \n",
    "import json\n",
    "book_reviews = []\n",
    "with open('Amazon books big.json') as f:\n",
    "    for line in f:\n",
    "        Books_reviews = json.loads(line)\n",
    "        book_reviews.append(Book_Review(Books_reviews['reviewText'],Books_reviews['overall']))\n",
    "\n",
    "len(book_reviews)"
   ]
  },
  {
   "cell_type": "markdown",
   "id": "5232d026",
   "metadata": {},
   "source": [
    "#### Converting our data into a pandas dataframe"
   ]
  },
  {
   "cell_type": "code",
   "execution_count": 25,
   "id": "4d5e7589",
   "metadata": {},
   "outputs": [
    {
     "data": {
      "text/html": [
       "<div>\n",
       "<style scoped>\n",
       "    .dataframe tbody tr th:only-of-type {\n",
       "        vertical-align: middle;\n",
       "    }\n",
       "\n",
       "    .dataframe tbody tr th {\n",
       "        vertical-align: top;\n",
       "    }\n",
       "\n",
       "    .dataframe thead th {\n",
       "        text-align: right;\n",
       "    }\n",
       "</style>\n",
       "<table border=\"1\" class=\"dataframe\">\n",
       "  <thead>\n",
       "    <tr style=\"text-align: right;\">\n",
       "      <th></th>\n",
       "      <th>text</th>\n",
       "      <th>sentiment</th>\n",
       "    </tr>\n",
       "  </thead>\n",
       "  <tbody>\n",
       "    <tr>\n",
       "      <th>0</th>\n",
       "      <td>I bought both boxed sets, books 1-5.  Really a...</td>\n",
       "      <td>good</td>\n",
       "    </tr>\n",
       "    <tr>\n",
       "      <th>1</th>\n",
       "      <td>I enjoyed this short book. But it was way way ...</td>\n",
       "      <td>bad</td>\n",
       "    </tr>\n",
       "    <tr>\n",
       "      <th>2</th>\n",
       "      <td>I love Nicholas Sparks. I&amp;#8217;ve read everyt...</td>\n",
       "      <td>good</td>\n",
       "    </tr>\n",
       "    <tr>\n",
       "      <th>3</th>\n",
       "      <td>I really enjoyed this adventure and look forwa...</td>\n",
       "      <td>good</td>\n",
       "    </tr>\n",
       "    <tr>\n",
       "      <th>4</th>\n",
       "      <td>It was a decent read.. typical story line. Not...</td>\n",
       "      <td>bad</td>\n",
       "    </tr>\n",
       "    <tr>\n",
       "      <th>...</th>\n",
       "      <td>...</td>\n",
       "      <td>...</td>\n",
       "    </tr>\n",
       "    <tr>\n",
       "      <th>9995</th>\n",
       "      <td>The whole series was great!  Melody is a fanta...</td>\n",
       "      <td>good</td>\n",
       "    </tr>\n",
       "    <tr>\n",
       "      <th>9996</th>\n",
       "      <td>I didn't thing that much of this book.  I am a...</td>\n",
       "      <td>bad</td>\n",
       "    </tr>\n",
       "    <tr>\n",
       "      <th>9997</th>\n",
       "      <td>It is an emotional TRIP to the past with Trip ...</td>\n",
       "      <td>good</td>\n",
       "    </tr>\n",
       "    <tr>\n",
       "      <th>9998</th>\n",
       "      <td>This definitely got under my veins whereby I h...</td>\n",
       "      <td>good</td>\n",
       "    </tr>\n",
       "    <tr>\n",
       "      <th>9999</th>\n",
       "      <td>Highly recommend this entire trilogy. It is ve...</td>\n",
       "      <td>good</td>\n",
       "    </tr>\n",
       "  </tbody>\n",
       "</table>\n",
       "<p>10000 rows × 2 columns</p>\n",
       "</div>"
      ],
      "text/plain": [
       "                                                   text sentiment\n",
       "0     I bought both boxed sets, books 1-5.  Really a...      good\n",
       "1     I enjoyed this short book. But it was way way ...       bad\n",
       "2     I love Nicholas Sparks. I&#8217;ve read everyt...      good\n",
       "3     I really enjoyed this adventure and look forwa...      good\n",
       "4     It was a decent read.. typical story line. Not...       bad\n",
       "...                                                 ...       ...\n",
       "9995  The whole series was great!  Melody is a fanta...      good\n",
       "9996  I didn't thing that much of this book.  I am a...       bad\n",
       "9997  It is an emotional TRIP to the past with Trip ...      good\n",
       "9998  This definitely got under my veins whereby I h...      good\n",
       "9999  Highly recommend this entire trilogy. It is ve...      good\n",
       "\n",
       "[10000 rows x 2 columns]"
      ]
     },
     "execution_count": 25,
     "metadata": {},
     "output_type": "execute_result"
    }
   ],
   "source": [
    "\n",
    "\n",
    "text = [x.text for x in book_reviews]\n",
    "sentiment = [x.sentiment for x in book_reviews]\n",
    "\n",
    "data = pd.DataFrame()\n",
    "\n",
    "data['text']=text\n",
    "data['sentiment']=sentiment\n",
    "\n",
    "data"
   ]
  },
  {
   "cell_type": "code",
   "execution_count": 26,
   "id": "7c7bbe20",
   "metadata": {},
   "outputs": [
    {
     "data": {
      "text/plain": [
       "good    8378\n",
       "bad     1622\n",
       "Name: sentiment, dtype: int64"
      ]
     },
     "execution_count": 26,
     "metadata": {},
     "output_type": "execute_result"
    }
   ],
   "source": [
    "data['sentiment'].value_counts()"
   ]
  },
  {
   "cell_type": "code",
   "execution_count": 27,
   "id": "ebc4ee4f",
   "metadata": {},
   "outputs": [
    {
     "data": {
      "text/plain": [
       "Text(0, 0.5, 'Count')"
      ]
     },
     "execution_count": 27,
     "metadata": {},
     "output_type": "execute_result"
    },
    {
     "data": {
      "image/png": "[encoded data removed]",
      "text/plain": [
       "<Figure size 720x288 with 1 Axes>"
      ]
     },
     "metadata": {},
     "output_type": "display_data"
    }
   ],
   "source": [
    "import seaborn as sns\n",
    "sns.set()\n",
    "plt.figure(figsize=(10,4))\n",
    "data['sentiment'].value_counts().plot(kind='bar', color=['lime',  'darkgreen'])\n",
    "plt.xlabel('Sentiment', fontsize=20, color='lime')\n",
    "plt.ylabel('Count', fontsize=20, color='lime')"
   ]
  },
  {
   "cell_type": "markdown",
   "id": "6374ad14",
   "metadata": {},
   "source": [
    "**our dataset is not balance and should not be used in building a machine learning model because of bayes**"
   ]
  },
  {
   "cell_type": "markdown",
   "id": "2a583557",
   "metadata": {},
   "source": [
    "## Balancing Our Data set"
   ]
  },
  {
   "cell_type": "code",
   "execution_count": 28,
   "id": "834f5095",
   "metadata": {},
   "outputs": [],
   "source": [
    "good_review = data.loc[data['sentiment']=='good']\n",
    "bad_review = data.loc[data['sentiment']=='bad']"
   ]
  },
  {
   "cell_type": "code",
   "execution_count": 29,
   "id": "2c21153f",
   "metadata": {},
   "outputs": [
    {
     "data": {
      "text/html": [
       "<div>\n",
       "<style scoped>\n",
       "    .dataframe tbody tr th:only-of-type {\n",
       "        vertical-align: middle;\n",
       "    }\n",
       "\n",
       "    .dataframe tbody tr th {\n",
       "        vertical-align: top;\n",
       "    }\n",
       "\n",
       "    .dataframe thead th {\n",
       "        text-align: right;\n",
       "    }\n",
       "</style>\n",
       "<table border=\"1\" class=\"dataframe\">\n",
       "  <thead>\n",
       "    <tr style=\"text-align: right;\">\n",
       "      <th></th>\n",
       "      <th>text</th>\n",
       "      <th>sentiment</th>\n",
       "    </tr>\n",
       "  </thead>\n",
       "  <tbody>\n",
       "    <tr>\n",
       "      <th>0</th>\n",
       "      <td>I bought both boxed sets, books 1-5.  Really a...</td>\n",
       "      <td>good</td>\n",
       "    </tr>\n",
       "    <tr>\n",
       "      <th>2</th>\n",
       "      <td>I love Nicholas Sparks. I&amp;#8217;ve read everyt...</td>\n",
       "      <td>good</td>\n",
       "    </tr>\n",
       "    <tr>\n",
       "      <th>3</th>\n",
       "      <td>I really enjoyed this adventure and look forwa...</td>\n",
       "      <td>good</td>\n",
       "    </tr>\n",
       "    <tr>\n",
       "      <th>5</th>\n",
       "      <td>I hoped for Mia to have some peace in this boo...</td>\n",
       "      <td>good</td>\n",
       "    </tr>\n",
       "    <tr>\n",
       "      <th>7</th>\n",
       "      <td>This is the First book in the Trilogy, and I'm...</td>\n",
       "      <td>good</td>\n",
       "    </tr>\n",
       "    <tr>\n",
       "      <th>...</th>\n",
       "      <td>...</td>\n",
       "      <td>...</td>\n",
       "    </tr>\n",
       "    <tr>\n",
       "      <th>9992</th>\n",
       "      <td>Intense and not for the faint of heart, Craig ...</td>\n",
       "      <td>good</td>\n",
       "    </tr>\n",
       "    <tr>\n",
       "      <th>9995</th>\n",
       "      <td>The whole series was great!  Melody is a fanta...</td>\n",
       "      <td>good</td>\n",
       "    </tr>\n",
       "    <tr>\n",
       "      <th>9997</th>\n",
       "      <td>It is an emotional TRIP to the past with Trip ...</td>\n",
       "      <td>good</td>\n",
       "    </tr>\n",
       "    <tr>\n",
       "      <th>9998</th>\n",
       "      <td>This definitely got under my veins whereby I h...</td>\n",
       "      <td>good</td>\n",
       "    </tr>\n",
       "    <tr>\n",
       "      <th>9999</th>\n",
       "      <td>Highly recommend this entire trilogy. It is ve...</td>\n",
       "      <td>good</td>\n",
       "    </tr>\n",
       "  </tbody>\n",
       "</table>\n",
       "<p>8378 rows × 2 columns</p>\n",
       "</div>"
      ],
      "text/plain": [
       "                                                   text sentiment\n",
       "0     I bought both boxed sets, books 1-5.  Really a...      good\n",
       "2     I love Nicholas Sparks. I&#8217;ve read everyt...      good\n",
       "3     I really enjoyed this adventure and look forwa...      good\n",
       "5     I hoped for Mia to have some peace in this boo...      good\n",
       "7     This is the First book in the Trilogy, and I'm...      good\n",
       "...                                                 ...       ...\n",
       "9992  Intense and not for the faint of heart, Craig ...      good\n",
       "9995  The whole series was great!  Melody is a fanta...      good\n",
       "9997  It is an emotional TRIP to the past with Trip ...      good\n",
       "9998  This definitely got under my veins whereby I h...      good\n",
       "9999  Highly recommend this entire trilogy. It is ve...      good\n",
       "\n",
       "[8378 rows x 2 columns]"
      ]
     },
     "execution_count": 29,
     "metadata": {},
     "output_type": "execute_result"
    }
   ],
   "source": [
    "good_review"
   ]
  },
  {
   "cell_type": "code",
   "execution_count": 31,
   "id": "5a435a32",
   "metadata": {},
   "outputs": [
    {
     "data": {
      "text/html": [
       "<div>\n",
       "<style scoped>\n",
       "    .dataframe tbody tr th:only-of-type {\n",
       "        vertical-align: middle;\n",
       "    }\n",
       "\n",
       "    .dataframe tbody tr th {\n",
       "        vertical-align: top;\n",
       "    }\n",
       "\n",
       "    .dataframe thead th {\n",
       "        text-align: right;\n",
       "    }\n",
       "</style>\n",
       "<table border=\"1\" class=\"dataframe\">\n",
       "  <thead>\n",
       "    <tr style=\"text-align: right;\">\n",
       "      <th></th>\n",
       "      <th>text</th>\n",
       "      <th>sentiment</th>\n",
       "    </tr>\n",
       "  </thead>\n",
       "  <tbody>\n",
       "    <tr>\n",
       "      <th>1</th>\n",
       "      <td>I enjoyed this short book. But it was way way ...</td>\n",
       "      <td>bad</td>\n",
       "    </tr>\n",
       "    <tr>\n",
       "      <th>4</th>\n",
       "      <td>It was a decent read.. typical story line. Not...</td>\n",
       "      <td>bad</td>\n",
       "    </tr>\n",
       "    <tr>\n",
       "      <th>6</th>\n",
       "      <td>The book has the fevered intensity of Oliver S...</td>\n",
       "      <td>bad</td>\n",
       "    </tr>\n",
       "    <tr>\n",
       "      <th>27</th>\n",
       "      <td>I would buy anything with the name NORA EFRON ...</td>\n",
       "      <td>bad</td>\n",
       "    </tr>\n",
       "    <tr>\n",
       "      <th>30</th>\n",
       "      <td>My Reflections:The well developed characters, ...</td>\n",
       "      <td>bad</td>\n",
       "    </tr>\n",
       "    <tr>\n",
       "      <th>...</th>\n",
       "      <td>...</td>\n",
       "      <td>...</td>\n",
       "    </tr>\n",
       "    <tr>\n",
       "      <th>9982</th>\n",
       "      <td>*I received a free copy of this book to read a...</td>\n",
       "      <td>bad</td>\n",
       "    </tr>\n",
       "    <tr>\n",
       "      <th>9984</th>\n",
       "      <td>Having this book toted as a YA series on Amazo...</td>\n",
       "      <td>bad</td>\n",
       "    </tr>\n",
       "    <tr>\n",
       "      <th>9993</th>\n",
       "      <td>I've tried to start this graphic novel a coupl...</td>\n",
       "      <td>bad</td>\n",
       "    </tr>\n",
       "    <tr>\n",
       "      <th>9994</th>\n",
       "      <td>Not so Much this.  There is a less genuine res...</td>\n",
       "      <td>bad</td>\n",
       "    </tr>\n",
       "    <tr>\n",
       "      <th>9996</th>\n",
       "      <td>I didn't thing that much of this book.  I am a...</td>\n",
       "      <td>bad</td>\n",
       "    </tr>\n",
       "  </tbody>\n",
       "</table>\n",
       "<p>1622 rows × 2 columns</p>\n",
       "</div>"
      ],
      "text/plain": [
       "                                                   text sentiment\n",
       "1     I enjoyed this short book. But it was way way ...       bad\n",
       "4     It was a decent read.. typical story line. Not...       bad\n",
       "6     The book has the fevered intensity of Oliver S...       bad\n",
       "27    I would buy anything with the name NORA EFRON ...       bad\n",
       "30    My Reflections:The well developed characters, ...       bad\n",
       "...                                                 ...       ...\n",
       "9982  *I received a free copy of this book to read a...       bad\n",
       "9984  Having this book toted as a YA series on Amazo...       bad\n",
       "9993  I've tried to start this graphic novel a coupl...       bad\n",
       "9994  Not so Much this.  There is a less genuine res...       bad\n",
       "9996  I didn't thing that much of this book.  I am a...       bad\n",
       "\n",
       "[1622 rows x 2 columns]"
      ]
     },
     "execution_count": 31,
     "metadata": {},
     "output_type": "execute_result"
    }
   ],
   "source": [
    "bad_review"
   ]
  },
  {
   "cell_type": "code",
   "execution_count": 32,
   "id": "a5ce46f8",
   "metadata": {},
   "outputs": [
    {
     "name": "stdout",
     "output_type": "stream",
     "text": [
      "8378 1622\n",
      "(8378, 2) (1622, 2)\n"
     ]
    }
   ],
   "source": [
    "print(len(good_review), len(bad_review))\n",
    "print(good_review.shape, bad_review.shape)"
   ]
  },
  {
   "cell_type": "code",
   "execution_count": 33,
   "id": "6a525fcf",
   "metadata": {},
   "outputs": [],
   "source": [
    "good_df = good_review.sample(n=len(bad_review), random_state=42)\n",
    "bad_df =bad_review"
   ]
  },
  {
   "cell_type": "code",
   "execution_count": 34,
   "id": "610ba1f3",
   "metadata": {},
   "outputs": [
    {
     "name": "stdout",
     "output_type": "stream",
     "text": [
      "1622 1622\n",
      "(1622, 2) (1622, 2)\n"
     ]
    }
   ],
   "source": [
    "print(len(good_df), len(bad_df))\n",
    "print(good_df.shape, bad_df.shape)"
   ]
  },
  {
   "cell_type": "code",
   "execution_count": 35,
   "id": "d7ba8ffe",
   "metadata": {},
   "outputs": [
    {
     "name": "stderr",
     "output_type": "stream",
     "text": [
      "C:\\Users\\Emack\\AppData\\Local\\Temp\\ipykernel_10316\\953249244.py:1: FutureWarning: The frame.append method is deprecated and will be removed from pandas in a future version. Use pandas.concat instead.\n",
      "  df = good_df.append(bad_df).reset_index(drop=True)\n"
     ]
    }
   ],
   "source": [
    "df = good_df.append(bad_df).reset_index(drop=True)"
   ]
  },
  {
   "cell_type": "code",
   "execution_count": 36,
   "id": "67078cd0",
   "metadata": {},
   "outputs": [
    {
     "data": {
      "text/html": [
       "<div>\n",
       "<style scoped>\n",
       "    .dataframe tbody tr th:only-of-type {\n",
       "        vertical-align: middle;\n",
       "    }\n",
       "\n",
       "    .dataframe tbody tr th {\n",
       "        vertical-align: top;\n",
       "    }\n",
       "\n",
       "    .dataframe thead th {\n",
       "        text-align: right;\n",
       "    }\n",
       "</style>\n",
       "<table border=\"1\" class=\"dataframe\">\n",
       "  <thead>\n",
       "    <tr style=\"text-align: right;\">\n",
       "      <th></th>\n",
       "      <th>text</th>\n",
       "      <th>sentiment</th>\n",
       "    </tr>\n",
       "  </thead>\n",
       "  <tbody>\n",
       "    <tr>\n",
       "      <th>0</th>\n",
       "      <td>This series just keeps surprising me. I adored...</td>\n",
       "      <td>good</td>\n",
       "    </tr>\n",
       "    <tr>\n",
       "      <th>1</th>\n",
       "      <td>Not a bad book, but.... it needs more info abo...</td>\n",
       "      <td>good</td>\n",
       "    </tr>\n",
       "    <tr>\n",
       "      <th>2</th>\n",
       "      <td>This book is just so amazing it is hard to wri...</td>\n",
       "      <td>good</td>\n",
       "    </tr>\n",
       "    <tr>\n",
       "      <th>3</th>\n",
       "      <td>This is my absolute favorite book by Leslie Fe...</td>\n",
       "      <td>good</td>\n",
       "    </tr>\n",
       "    <tr>\n",
       "      <th>4</th>\n",
       "      <td>Bright colors and funny baby faces - my baby l...</td>\n",
       "      <td>good</td>\n",
       "    </tr>\n",
       "    <tr>\n",
       "      <th>...</th>\n",
       "      <td>...</td>\n",
       "      <td>...</td>\n",
       "    </tr>\n",
       "    <tr>\n",
       "      <th>3239</th>\n",
       "      <td>*I received a free copy of this book to read a...</td>\n",
       "      <td>bad</td>\n",
       "    </tr>\n",
       "    <tr>\n",
       "      <th>3240</th>\n",
       "      <td>Having this book toted as a YA series on Amazo...</td>\n",
       "      <td>bad</td>\n",
       "    </tr>\n",
       "    <tr>\n",
       "      <th>3241</th>\n",
       "      <td>I've tried to start this graphic novel a coupl...</td>\n",
       "      <td>bad</td>\n",
       "    </tr>\n",
       "    <tr>\n",
       "      <th>3242</th>\n",
       "      <td>Not so Much this.  There is a less genuine res...</td>\n",
       "      <td>bad</td>\n",
       "    </tr>\n",
       "    <tr>\n",
       "      <th>3243</th>\n",
       "      <td>I didn't thing that much of this book.  I am a...</td>\n",
       "      <td>bad</td>\n",
       "    </tr>\n",
       "  </tbody>\n",
       "</table>\n",
       "<p>3244 rows × 2 columns</p>\n",
       "</div>"
      ],
      "text/plain": [
       "                                                   text sentiment\n",
       "0     This series just keeps surprising me. I adored...      good\n",
       "1     Not a bad book, but.... it needs more info abo...      good\n",
       "2     This book is just so amazing it is hard to wri...      good\n",
       "3     This is my absolute favorite book by Leslie Fe...      good\n",
       "4     Bright colors and funny baby faces - my baby l...      good\n",
       "...                                                 ...       ...\n",
       "3239  *I received a free copy of this book to read a...       bad\n",
       "3240  Having this book toted as a YA series on Amazo...       bad\n",
       "3241  I've tried to start this graphic novel a coupl...       bad\n",
       "3242  Not so Much this.  There is a less genuine res...       bad\n",
       "3243  I didn't thing that much of this book.  I am a...       bad\n",
       "\n",
       "[3244 rows x 2 columns]"
      ]
     },
     "execution_count": 36,
     "metadata": {},
     "output_type": "execute_result"
    }
   ],
   "source": [
    "df"
   ]
  },
  {
   "cell_type": "code",
   "execution_count": 37,
   "id": "cb2e6dfc",
   "metadata": {},
   "outputs": [
    {
     "data": {
      "text/plain": [
       "Text(0, 0.5, 'Count')"
      ]
     },
     "execution_count": 37,
     "metadata": {},
     "output_type": "execute_result"
    },
    {
     "data": {
      "image/png": "[encoded data removed]",
      "text/plain": [
       "<Figure size 720x288 with 1 Axes>"
      ]
     },
     "metadata": {},
     "output_type": "display_data"
    }
   ],
   "source": [
    "sns.set()\n",
    "plt.figure(figsize=(10,4))\n",
    "df['sentiment'].value_counts().plot(kind='bar', color=['lime',  'darkgreen'])\n",
    "plt.xlabel('Sentiment', fontsize=20, color='lime')\n",
    "plt.ylabel('Count', fontsize=20, color='lime')"
   ]
  },
  {
   "cell_type": "markdown",
   "id": "8c30dd74",
   "metadata": {},
   "source": [
    "**Our Dataset is now balanced i can be used for building a model**"
   ]
  },
  {
   "cell_type": "code",
   "execution_count": 38,
   "id": "9fab7d0a",
   "metadata": {},
   "outputs": [],
   "source": [
    "from sklearn.model_selection import train_test_split\n",
    "X = df['text']\n",
    "y = df['sentiment']\n",
    "X_train, X_test, y_train, y_test = train_test_split(X, y, test_size=0.2)"
   ]
  },
  {
   "cell_type": "code",
   "execution_count": 39,
   "id": "0111fc0a",
   "metadata": {},
   "outputs": [
    {
     "name": "stdout",
     "output_type": "stream",
     "text": [
      " This is the total length of X 3244\n",
      " This is the total length of train X and y 2595, 2595\n"
     ]
    }
   ],
   "source": [
    "print(f\" This is the total length of X {len(X)}\\n This is the total length of train X and y {len(X_train)}, {len(y_train)}\")"
   ]
  },
  {
   "cell_type": "code",
   "execution_count": 40,
   "id": "4d6c39d5",
   "metadata": {},
   "outputs": [
    {
     "name": "stdout",
     "output_type": "stream",
     "text": [
      " This is the total length of y 3244\n",
      " This is the total length of test X and y 649, 649\n"
     ]
    }
   ],
   "source": [
    "print(f\" This is the total length of y {len(y)}\\n This is the total length of test X and y {len(X_test)}, {len(y_test)}\")"
   ]
  },
  {
   "cell_type": "markdown",
   "id": "aefccc6c",
   "metadata": {},
   "source": [
    "#### Bags of words using Sklearn"
   ]
  },
  {
   "cell_type": "code",
   "execution_count": 42,
   "id": "a9996095",
   "metadata": {},
   "outputs": [],
   "source": [
    "vectorizer =TfidfVectorizer()\n",
    "train_x_vector = vectorizer.fit_transform(X_train)\n",
    "test_x_vector = vectorizer.transform(X_test)"
   ]
  },
  {
   "cell_type": "markdown",
   "id": "3e558ed1",
   "metadata": {},
   "source": [
    "#### Trying various Classification models"
   ]
  },
  {
   "cell_type": "code",
   "execution_count": 43,
   "id": "48280e09",
   "metadata": {},
   "outputs": [],
   "source": [
    "from sklearn import svm\n",
    "from sklearn.tree import DecisionTreeClassifier\n",
    "from sklearn.linear_model import LogisticRegression\n",
    "from sklearn.naive_bayes import GaussianNB\n",
    "from sklearn.neighbors import KNeighborsClassifier\n",
    "from sklearn.ensemble import RandomForestClassifier"
   ]
  },
  {
   "cell_type": "markdown",
   "id": "1b278058",
   "metadata": {},
   "source": [
    "###### SVM"
   ]
  },
  {
   "cell_type": "code",
   "execution_count": 44,
   "id": "b5166815",
   "metadata": {},
   "outputs": [
    {
     "data": {
      "text/plain": [
       "0.7796610169491526"
      ]
     },
     "execution_count": 44,
     "metadata": {},
     "output_type": "execute_result"
    }
   ],
   "source": [
    "svm_clf = svm.SVC(kernel='linear')\n",
    "svm_clf.fit(train_x_vector, y_train)\n",
    "svm_clf.score(test_x_vector, y_test)"
   ]
  },
  {
   "cell_type": "markdown",
   "id": "240cebc9",
   "metadata": {},
   "source": [
    "###### Decision Tree Classifier"
   ]
  },
  {
   "cell_type": "code",
   "execution_count": 45,
   "id": "aa5b04cb",
   "metadata": {},
   "outputs": [
    {
     "data": {
      "text/plain": [
       "0.6471494607087828"
      ]
     },
     "execution_count": 45,
     "metadata": {},
     "output_type": "execute_result"
    }
   ],
   "source": [
    "dt = DecisionTreeClassifier()\n",
    "dt.fit(train_x_vector, y_train)\n",
    "dt.score(test_x_vector, y_test)"
   ]
  },
  {
   "cell_type": "markdown",
   "id": "7fe74061",
   "metadata": {},
   "source": [
    "###### naive bayes classifier"
   ]
  },
  {
   "cell_type": "code",
   "execution_count": 46,
   "id": "3a1e25bc",
   "metadata": {},
   "outputs": [
    {
     "data": {
      "text/plain": [
       "0.5654853620955316"
      ]
     },
     "execution_count": 46,
     "metadata": {},
     "output_type": "execute_result"
    }
   ],
   "source": [
    "gnb = GaussianNB()\n",
    "gnb.fit(train_x_vector.toarray() , y_train)\n",
    "gnb.score(test_x_vector.toarray(), y_test)"
   ]
  },
  {
   "cell_type": "markdown",
   "id": "b1bd5464",
   "metadata": {},
   "source": [
    "###### Logistics Regression"
   ]
  },
  {
   "cell_type": "code",
   "execution_count": 47,
   "id": "7c1d2c50",
   "metadata": {},
   "outputs": [
    {
     "data": {
      "text/plain": [
       "0.7919876733436055"
      ]
     },
     "execution_count": 47,
     "metadata": {},
     "output_type": "execute_result"
    }
   ],
   "source": [
    "lr =LogisticRegression()\n",
    "lr.fit(train_x_vector, y_train)\n",
    "lr.score(test_x_vector, y_test)"
   ]
  },
  {
   "cell_type": "markdown",
   "id": "f98ddefa",
   "metadata": {},
   "source": [
    "###### K Nearest Neigbours"
   ]
  },
  {
   "cell_type": "code",
   "execution_count": 48,
   "id": "41be71c5",
   "metadata": {},
   "outputs": [
    {
     "data": {
      "text/plain": [
       "0.687211093990755"
      ]
     },
     "execution_count": 48,
     "metadata": {},
     "output_type": "execute_result"
    }
   ],
   "source": [
    "kn =KNeighborsClassifier()\n",
    "kn.fit(train_x_vector, y_train)\n",
    "kn.score(test_x_vector, y_test)"
   ]
  },
  {
   "cell_type": "markdown",
   "id": "0a573cac",
   "metadata": {},
   "source": [
    "###### Random Forest"
   ]
  },
  {
   "cell_type": "code",
   "execution_count": 49,
   "id": "cecdc838",
   "metadata": {},
   "outputs": [
    {
     "data": {
      "text/plain": [
       "0.7673343605546995"
      ]
     },
     "execution_count": 49,
     "metadata": {},
     "output_type": "execute_result"
    }
   ],
   "source": [
    "rf =RandomForestClassifier()\n",
    "rf.fit(train_x_vector, y_train)\n",
    "rf.score(test_x_vector, y_test)"
   ]
  },
  {
   "cell_type": "markdown",
   "id": "b1fcfc82",
   "metadata": {},
   "source": [
    "##### Visualizing our model scores"
   ]
  },
  {
   "cell_type": "code",
   "execution_count": 50,
   "id": "f4e45ce5",
   "metadata": {},
   "outputs": [],
   "source": [
    "model_scores={\"svm\":svm_clf.score(test_x_vector, y_test), 'naive bayes':gnb.score(test_x_vector.toarray(), y_test),\n",
    "             'Logistic regression':lr.score(test_x_vector, y_test),\"k nearest neighbour\":kn.score(test_x_vector, y_test),\n",
    "             \"Random Forest\":kn.score(test_x_vector, y_test)}"
   ]
  },
  {
   "cell_type": "code",
   "execution_count": 51,
   "id": "b6306251",
   "metadata": {},
   "outputs": [
    {
     "data": {
      "text/plain": [
       "dict_keys(['svm', 'naive bayes', 'Logistic regression', 'k nearest neighbour', 'Random Forest'])"
      ]
     },
     "execution_count": 51,
     "metadata": {},
     "output_type": "execute_result"
    }
   ],
   "source": [
    "model_scores.keys()"
   ]
  },
  {
   "cell_type": "code",
   "execution_count": 52,
   "id": "4d783758",
   "metadata": {},
   "outputs": [
    {
     "data": {
      "text/plain": [
       "Text(0.5, 1.0, 'Models and their score performance')"
      ]
     },
     "execution_count": 52,
     "metadata": {},
     "output_type": "execute_result"
    },
    {
     "data": {
      "image/png": "[encoded data removed]",
      "text/plain": [
       "<Figure size 1296x360 with 1 Axes>"
      ]
     },
     "metadata": {},
     "output_type": "display_data"
    }
   ],
   "source": [
    "plt.figure(figsize=(18,5))\n",
    "plt.bar(model_scores.keys(), model_scores.values(), width=0.5, color='skyblue')\n",
    "plt.ylabel('Model Scores', fontsize=20, color=\"blue\")\n",
    "plt.xlabel('Models', fontsize=20, color=\"blue\")\n",
    "plt.title('Models and their score performance', fontsize=30, color=\"blue\")"
   ]
  },
  {
   "cell_type": "markdown",
   "id": "99de9731",
   "metadata": {},
   "source": [
    "### MODEL EVALUATION\n",
    "\n"
   ]
  },
  {
   "cell_type": "code",
   "execution_count": 53,
   "id": "9c0c32f3",
   "metadata": {},
   "outputs": [],
   "source": [
    "from sklearn.metrics import classification_report, confusion_matrix"
   ]
  },
  {
   "cell_type": "code",
   "execution_count": 54,
   "id": "6cb8ed05",
   "metadata": {},
   "outputs": [],
   "source": [
    "sns.set(font_scale =1.5)\n",
    "\n",
    "def plot_conf_mat(y_test, y_preds, name):\n",
    "    \"\"\"\n",
    "    Plots a nice looking confusion matrix using seaborns's heatmap()\n",
    "    \"\"\"\n",
    "    \n",
    "    fig, ax = plt.subplots(figsize=(6,6))\n",
    "    ax = sns.heatmap(confusion_matrix(y_test, y_preds), annot=True, cbar=True)\n",
    "    \n",
    "    plt.xlabel(\"True label\")\n",
    "    plt.ylabel(\"predicted label\")\n",
    "    plt.title(name)\n",
    "    plt.show()"
   ]
  },
  {
   "cell_type": "code",
   "execution_count": 55,
   "id": "47b9be70",
   "metadata": {},
   "outputs": [
    {
     "name": "stdout",
     "output_type": "stream",
     "text": [
      "----------------------------------------------for SVM--------------------------------------\n",
      "              precision    recall  f1-score   support\n",
      "\n",
      "         bad       0.77      0.80      0.79       328\n",
      "        good       0.79      0.76      0.77       321\n",
      "\n",
      "    accuracy                           0.78       649\n",
      "   macro avg       0.78      0.78      0.78       649\n",
      "weighted avg       0.78      0.78      0.78       649\n",
      "\n",
      "[[262  66]\n",
      " [ 77 244]]\n"
     ]
    },
    {
     "data": {
      "image/png": "[encoded data removed]",
      "text/plain": [
       "<Figure size 432x432 with 2 Axes>"
      ]
     },
     "metadata": {},
     "output_type": "display_data"
    }
   ],
   "source": [
    "print('----------------------------------------------for SVM--------------------------------------')\n",
    "print(classification_report(y_test, svm_clf.predict(test_x_vector)))\n",
    "print(confusion_matrix(y_test,svm_clf.predict(test_x_vector)))\n",
    "plot_conf_mat(y_test,svm_clf.predict(test_x_vector), 'Confusion Matrix for SVM')"
   ]
  },
  {
   "cell_type": "code",
   "execution_count": null,
   "id": "aa501ac0",
   "metadata": {},
   "outputs": [],
   "source": []
  },
  {
   "cell_type": "code",
   "execution_count": 56,
   "id": "d6bf0df5",
   "metadata": {},
   "outputs": [
    {
     "name": "stdout",
     "output_type": "stream",
     "text": [
      "----------------------------------------------for Decision Tree--------------------------------------\n",
      "              precision    recall  f1-score   support\n",
      "\n",
      "         bad       0.65      0.66      0.66       328\n",
      "        good       0.65      0.63      0.64       321\n",
      "\n",
      "    accuracy                           0.65       649\n",
      "   macro avg       0.65      0.65      0.65       649\n",
      "weighted avg       0.65      0.65      0.65       649\n",
      "\n",
      "[[218 110]\n",
      " [119 202]]\n"
     ]
    },
    {
     "data": {
      "image/png": "[encoded data removed]",
      "text/plain": [
       "<Figure size 432x432 with 2 Axes>"
      ]
     },
     "metadata": {},
     "output_type": "display_data"
    }
   ],
   "source": [
    "print('----------------------------------------------for Decision Tree--------------------------------------')\n",
    "print(classification_report(y_test, dt.predict(test_x_vector)))\n",
    "print(confusion_matrix(y_test,dt.predict(test_x_vector)))\n",
    "plot_conf_mat(y_test,dt.predict(test_x_vector), 'Confusion Matrix for Decision Tree')"
   ]
  },
  {
   "cell_type": "code",
   "execution_count": 57,
   "id": "5b1566c6",
   "metadata": {},
   "outputs": [
    {
     "name": "stdout",
     "output_type": "stream",
     "text": [
      "---------------------------------------------- for Naive Bayes ------------------------------------\n",
      "              precision    recall  f1-score   support\n",
      "\n",
      "         bad       0.58      0.51      0.54       328\n",
      "        good       0.55      0.62      0.59       321\n",
      "\n",
      "    accuracy                           0.57       649\n",
      "   macro avg       0.57      0.57      0.56       649\n",
      "weighted avg       0.57      0.57      0.56       649\n",
      "\n",
      "[[168 160]\n",
      " [122 199]]\n"
     ]
    },
    {
     "data": {
      "image/png": "[encoded data removed]",
      "text/plain": [
       "<Figure size 432x432 with 2 Axes>"
      ]
     },
     "metadata": {},
     "output_type": "display_data"
    }
   ],
   "source": [
    "print('---------------------------------------------- for Naive Bayes ------------------------------------')\n",
    "print(classification_report(y_test, gnb.predict(test_x_vector.toarray())))\n",
    "print(confusion_matrix(y_test,gnb.predict(test_x_vector.toarray())))\n",
    "plot_conf_mat(y_test,gnb.predict(test_x_vector.toarray()), 'Confusion Matrix for Naive Bayes')"
   ]
  },
  {
   "cell_type": "code",
   "execution_count": 58,
   "id": "776150d2",
   "metadata": {},
   "outputs": [
    {
     "name": "stdout",
     "output_type": "stream",
     "text": [
      "------------------------------------ for Linear Regression ---------------------------------------\n",
      "              precision    recall  f1-score   support\n",
      "\n",
      "         bad       0.78      0.81      0.80       328\n",
      "        good       0.80      0.77      0.79       321\n",
      "\n",
      "    accuracy                           0.79       649\n",
      "   macro avg       0.79      0.79      0.79       649\n",
      "weighted avg       0.79      0.79      0.79       649\n",
      "\n",
      "[[266  62]\n",
      " [ 73 248]]\n"
     ]
    },
    {
     "data": {
      "image/png": "[encoded data removed]",
      "text/plain": [
       "<Figure size 432x432 with 2 Axes>"
      ]
     },
     "metadata": {},
     "output_type": "display_data"
    }
   ],
   "source": [
    "print('------------------------------------ for Linear Regression ---------------------------------------')\n",
    "print(classification_report(y_test, lr.predict(test_x_vector)))\n",
    "print(confusion_matrix(y_test,lr.predict(test_x_vector)))\n",
    "plot_conf_mat(y_test,lr.predict(test_x_vector), 'Confusion Matrix for Linear Regression')"
   ]
  },
  {
   "cell_type": "code",
   "execution_count": 59,
   "id": "60b5a2bd",
   "metadata": {},
   "outputs": [
    {
     "name": "stdout",
     "output_type": "stream",
     "text": [
      "------------------------------------ for K nearest Neigbours ---------------------------------------\n",
      "              precision    recall  f1-score   support\n",
      "\n",
      "         bad       0.69      0.68      0.69       328\n",
      "        good       0.68      0.69      0.69       321\n",
      "\n",
      "    accuracy                           0.69       649\n",
      "   macro avg       0.69      0.69      0.69       649\n",
      "weighted avg       0.69      0.69      0.69       649\n",
      "\n",
      "[[224 104]\n",
      " [ 99 222]]\n"
     ]
    },
    {
     "data": {
      "image/png": "[encoded data removed]",
      "text/plain": [
       "<Figure size 432x432 with 2 Axes>"
      ]
     },
     "metadata": {},
     "output_type": "display_data"
    }
   ],
   "source": [
    "print('------------------------------------ for K nearest Neigbours ---------------------------------------')\n",
    "print(classification_report(y_test, kn.predict(test_x_vector)))\n",
    "print(confusion_matrix(y_test,kn.predict(test_x_vector)))\n",
    "plot_conf_mat(y_test,kn.predict(test_x_vector), 'Confusion Matrix for Linear Regression')"
   ]
  },
  {
   "cell_type": "code",
   "execution_count": 60,
   "id": "56ac897c",
   "metadata": {},
   "outputs": [
    {
     "name": "stdout",
     "output_type": "stream",
     "text": [
      "------------------------------------ for Random forest ---------------------------------------\n",
      "              precision    recall  f1-score   support\n",
      "\n",
      "         bad       0.75      0.82      0.78       328\n",
      "        good       0.80      0.71      0.75       321\n",
      "\n",
      "    accuracy                           0.77       649\n",
      "   macro avg       0.77      0.77      0.77       649\n",
      "weighted avg       0.77      0.77      0.77       649\n",
      "\n",
      "[[269  59]\n",
      " [ 92 229]]\n"
     ]
    },
    {
     "data": {
      "image/png": "[encoded data removed]",
      "text/plain": [
       "<Figure size 432x432 with 2 Axes>"
      ]
     },
     "metadata": {},
     "output_type": "display_data"
    }
   ],
   "source": [
    "print('------------------------------------ for Random forest ---------------------------------------')\n",
    "print(classification_report(y_test, rf.predict(test_x_vector)))\n",
    "print(confusion_matrix(y_test,rf.predict(test_x_vector)))\n",
    "plot_conf_mat(y_test,rf.predict(test_x_vector), 'Confusion Matrix for Random Forest')"
   ]
  },
  {
   "cell_type": "markdown",
   "id": "53ba69ff",
   "metadata": {},
   "source": [
    "**SVM, Linear Regression and Random forest perfrom well based on evaluaton.**"
   ]
  },
  {
   "cell_type": "code",
   "execution_count": 62,
   "id": "8edc491f",
   "metadata": {},
   "outputs": [
    {
     "data": {
      "text/plain": [
       "0.8089368258859785"
      ]
     },
     "execution_count": 62,
     "metadata": {},
     "output_type": "execute_result"
    }
   ],
   "source": [
    "from sklearn.model_selection import GridSearchCV\n",
    "\n",
    "parameter = {'kernel':('linear', 'rbf'),'C':(1,4,8,16,32)}\n",
    "svc = svm.SVC()\n",
    "isvm = GridSearchCV(svc, parameter, cv=5)\n",
    "\n",
    "isvm.fit(train_x_vector, y_train)\n",
    "isvm.score(test_x_vector, y_test)"
   ]
  },
  {
   "cell_type": "code",
   "execution_count": 63,
   "id": "361abddd",
   "metadata": {},
   "outputs": [
    {
     "name": "stdout",
     "output_type": "stream",
     "text": [
      "Fitting 5 folds for each of 30 candidates, totalling 150 fits\n"
     ]
    }
   ],
   "source": [
    "\n",
    "log_params ={\n",
    "    \"C\":np.logspace(-4,4,30),\n",
    "    \"solver\":['liblinear']\n",
    "}\n",
    "\n",
    "gs_log_reg = GridSearchCV(LogisticRegression(),log_params, cv= 5,\n",
    "                         verbose=True)\n",
    "gs_log_reg.fit(train_x_vector, y_train);"
   ]
  },
  {
   "cell_type": "code",
   "execution_count": 64,
   "id": "06570ea6",
   "metadata": {},
   "outputs": [],
   "source": [
    "log_grid = gs_log_reg.score(test_x_vector, y_test);"
   ]
  },
  {
   "cell_type": "code",
   "execution_count": 65,
   "id": "7a826efa",
   "metadata": {},
   "outputs": [
    {
     "data": {
      "text/plain": [
       "0.7950693374422187"
      ]
     },
     "execution_count": 65,
     "metadata": {},
     "output_type": "execute_result"
    }
   ],
   "source": [
    "log_grid"
   ]
  },
  {
   "cell_type": "code",
   "execution_count": 66,
   "id": "02a058a0",
   "metadata": {},
   "outputs": [],
   "source": [
    "rf_grid ={\n",
    "    \"n_estimators\":np.arange(10,1000,50),\n",
    "    \"max_depth\":[None, 3,5,10],\n",
    "    \"min_samples_split\": np.arange(2,20,2),\n",
    "    \"min_samples_leaf\": np.arange(1,20,2)\n",
    "    \n",
    "}\n",
    "rs_rf =GridSearchCV(RandomForestClassifier(),\n",
    "                         rf_grid, cv=5, verbose=True)\n",
    "\n"
   ]
  },
  {
   "cell_type": "code",
   "execution_count": 67,
   "id": "82e3b44a",
   "metadata": {
    "scrolled": true
   },
   "outputs": [],
   "source": [
    "rs_rf.fit(train_x_vector, y_train)"
   ]
  },
  {
   "cell_type": "code",
   "execution_count": 68,
   "id": "afa0ee76",
   "metadata": {},
   "outputs": [],
   "source": [
    "rs_rf_grid=rs_rf.score(test_x_vector, y_test)"
   ]
  },
  {
   "cell_type": "markdown",
   "id": "709ea3c7",
   "metadata": {},
   "source": [
    "### THE SVM MODEL PERFOMED VERY WELL "
   ]
  },
  {
   "cell_type": "markdown",
   "id": "91a9aab7",
   "metadata": {},
   "source": [
    "##### Testing our models "
   ]
  },
  {
   "cell_type": "code",
   "execution_count": 76,
   "id": "5d98d0e3",
   "metadata": {},
   "outputs": [],
   "source": [
    "test_data = ['i hate this book it was awesom', 'cool book', 'stupid book', 'lovely insane book']"
   ]
  },
  {
   "cell_type": "code",
   "execution_count": 77,
   "id": "12f1c212",
   "metadata": {},
   "outputs": [
    {
     "data": {
      "text/plain": [
       "array(['bad', 'good', 'bad', 'good'], dtype=object)"
      ]
     },
     "execution_count": 77,
     "metadata": {},
     "output_type": "execute_result"
    }
   ],
   "source": [
    "new_test = vectorizer.transform(test_data)\n",
    "isvm.predict(new_test)"
   ]
  },
  {
   "cell_type": "markdown",
   "id": "84828964",
   "metadata": {},
   "source": [
    "##### Saving our model"
   ]
  },
  {
   "cell_type": "code",
   "execution_count": 78,
   "id": "0078d122",
   "metadata": {},
   "outputs": [],
   "source": [
    "import pickle"
   ]
  },
  {
   "cell_type": "code",
   "execution_count": 79,
   "id": "9693c0ae",
   "metadata": {},
   "outputs": [],
   "source": [
    "pickle.dump(svm_clf, open(\"sentiment_model_1.pk1\", \"wb\"))"
   ]
  },
  {
   "cell_type": "markdown",
   "id": "8c5b6c98",
   "metadata": {},
   "source": [
    "##### Loading model"
   ]
  },
  {
   "cell_type": "code",
   "execution_count": 80,
   "id": "f5dba8cd",
   "metadata": {},
   "outputs": [],
   "source": [
    "loaded_model =pickle.load(open(\"sentiment_model_1.pk1\", 'rb'))"
   ]
  },
  {
   "cell_type": "code",
   "execution_count": 81,
   "id": "1acef043",
   "metadata": {},
   "outputs": [],
   "source": [
    "loaded_data = ['good book', 'bad book', 'great book', 'book', 'not good for a book', 'very bad for a book']"
   ]
  },
  {
   "cell_type": "code",
   "execution_count": 82,
   "id": "74b1cf03",
   "metadata": {},
   "outputs": [
    {
     "data": {
      "text/plain": [
       "array(['good', 'bad', 'good', 'good', 'bad', 'bad'], dtype=object)"
      ]
     },
     "execution_count": 82,
     "metadata": {},
     "output_type": "execute_result"
    }
   ],
   "source": [
    "loaded_data  = vectorizer.transform(loaded_data)\n",
    "loaded_model.predict(loaded_data)"
   ]
  },
  {
   "cell_type": "code",
   "execution_count": null,
   "id": "61b6fbf4",
   "metadata": {},
   "outputs": [],
   "source": []
  },
  {
   "cell_type": "code",
   "execution_count": null,
   "id": "b4ea562d",
   "metadata": {},
   "outputs": [],
   "source": []
  },
  {
   "cell_type": "code",
   "execution_count": null,
   "id": "bd5cd3f7",
   "metadata": {},
   "outputs": [],
   "source": []
  },
  {
   "cell_type": "code",
   "execution_count": null,
   "id": "41fab80d",
   "metadata": {},
   "outputs": [],
   "source": []
  }
 ],
 "metadata": {
  "kernelspec": {
   "display_name": "Python 3 (ipykernel)",
   "language": "python",
   "name": "python3"
  },
  "language_info": {
   "codemirror_mode": {
    "name": "ipython",
    "version": 3
   },
   "file_extension": ".py",
   "mimetype": "text/x-python",
   "name": "python",
   "nbconvert_exporter": "python",
   "pygments_lexer": "ipython3",
   "version": "3.9.6"
  }
 },
 "nbformat": 4,
 "nbformat_minor": 5
}
